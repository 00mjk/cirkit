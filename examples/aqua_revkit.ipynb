{
 "cells": [
  {
   "cell_type": "markdown",
   "metadata": {},
   "source": [
    "## Using Qiskit Aqua and RevKit for Grover search oracle synthesis"
   ]
  },
  {
   "cell_type": "markdown",
   "metadata": {},
   "source": [
    "We implement a new oracle by subclassing `Oracle`.  This oracle, called `BooleanExpression`, takes as input a Boolean expression given as a string and creates the quantum circuit for it.\n",
    "\n",
    "A Boolean expression `E` can either be\n",
    "* a variable `a`, `b`, ..., `p`,\n",
    "* a negation of an expression `!E`,\n",
    "* a conjunction of expressions `(E...E)`,\n",
    "* a disjunction of expressions `{E...E}`,\n",
    "* a exclusive or of expressions `[E...E]`, or\n",
    "* the majority of three expressions `<EEE>`."
   ]
  },
  {
   "cell_type": "code",
   "execution_count": 1,
   "metadata": {},
   "outputs": [],
   "source": [
    "import operator\n",
    "import revkit\n",
    "from qiskit import QuantumCircuit, QuantumRegister, load_qasm_string\n",
    "from qiskit.wrapper._circuittoolkit import circuit_from_qasm_string\n",
    "from qiskit_aqua.algorithms.components.oracles import Oracle"
   ]
  },
  {
   "cell_type": "code",
   "execution_count": 2,
   "metadata": {},
   "outputs": [],
   "source": [
    "class BooleanExpression(Oracle):\n",
    "    BE_CONFIGURATION = {\n",
    "        'name': 'BooleanExpression',\n",
    "        'description': 'Boolean expression oracle',\n",
    "        'input_schema': {\n",
    "            '$schema': 'http://json-schema.org/schema#',\n",
    "            'id': 'boolean_expression_oracle_schema',\n",
    "            'type': 'object',\n",
    "            'properties': {\n",
    "                'expr': {\n",
    "                    'type': 'string'\n",
    "                },\n",
    "                'strategy': {\n",
    "                    'type': 'integer',\n",
    "                    'default': 1\n",
    "                }\n",
    "            },\n",
    "            'additionalProperties': False\n",
    "        }\n",
    "    }\n",
    "    \n",
    "    def __init__(self, configuration=None):\n",
    "        super().__init__(configuration or self.BE_CONFIGURATION.copy())\n",
    "        self._expr = None\n",
    "        self._strategy = None\n",
    "        self._vars = None\n",
    "        self._binary = None\n",
    "        self._qr_outcome = None\n",
    "        self._qr_variable = None\n",
    "        self._qr_ancilla = None\n",
    "        \n",
    "    def init_args(self, expr, strategy):\n",
    "        # create truth table from expression\n",
    "        self._expr = expr\n",
    "        self._strategy = strategy\n",
    "        revkit.tt(expression=expr)\n",
    "        \n",
    "        # read number of variables and expression as binary string\n",
    "        log = revkit.ps(tt=True, silent=True)\n",
    "        self._vars = log['vars']\n",
    "        self._binary = log['binary']\n",
    "\n",
    "        self._qr_outcome = QuantumRegister(1, name='o')\n",
    "        self._qr_variable = QuantumRegister(self._vars, name='v')\n",
    "        num_ancillae = 1 if self._vars > 2 else 0\n",
    "        if num_ancillae > 0:\n",
    "            self._qr_ancilla = QuantumRegister(num_ancillae, name='a')\n",
    "            \n",
    "    \n",
    "    def variable_register(self):\n",
    "        return self._qr_variable\n",
    "    \n",
    "    def ancillary_register(self):\n",
    "        return self._qr_ancilla\n",
    "    \n",
    "    def outcome_register(self):\n",
    "        return self._qr_outcome\n",
    "    \n",
    "    def construct_circuit(self):\n",
    "        revkit.stg(stg=self._strategy)\n",
    "        if self._strategy == 0:\n",
    "            return self.load_from_qasm(revkit.to_qasm(mct=True))\n",
    "        else:\n",
    "            return self.load_from_qasm(revkit.to_qasm(qc=True))\n",
    "    \n",
    "    def load_from_qasm(self, qasm):\n",
    "        from qiskit.qasm import Qasm\n",
    "        from qiskit.unroll import Unroller, CircuitBackend\n",
    "        \n",
    "        class IntoCircuitBackend(CircuitBackend):\n",
    "            def __init__(self, qc):\n",
    "                super().__init__(\"id,u0,u1,u2,u3,x,y,z,h,s,sdg,t,tdg,rx,ry,rz,cx,cy,cz,ch,crz,cu1,cu3,swap,ccx,cswap\".split(\",\"))\n",
    "                self.circuit = qc\n",
    "                \n",
    "            def new_qreg(self, name, size):\n",
    "                pass\n",
    "\n",
    "        if self._qr_ancilla:\n",
    "            qc = QuantumCircuit(self._qr_variable, self._qr_ancilla, self._qr_outcome)\n",
    "        else:\n",
    "            qc = QuantumCircuit(self._qr_variable, self._qr_outcome)\n",
    "        node_circuit = Qasm(data=self._rename_registers(qasm)).parse()\n",
    "        unrolled_circuit = Unroller(node_circuit, IntoCircuitBackend(qc))\n",
    "        return unrolled_circuit.execute()\n",
    "        \n",
    "    \n",
    "    def _rename_registers(self, qasm):\n",
    "        qasm = qasm.replace(f\"qreg q[{self._vars + 1}];\\ncreg c[{self._vars + 1}];\\n\", f\"qreg v[{self._vars}];\\nqreg o[1];\\n\")\n",
    "        for i in range(self._vars):\n",
    "            qasm = qasm.replace(f\"q[{i}]\", f\"v[{i}]\")\n",
    "        qasm = qasm.replace(f\"q[{self._vars}]\", \"o[0]\")\n",
    "        return qasm\n",
    "\n",
    "    def evaluate_classically(self, assignment):\n",
    "        return sum(2**i if a else 0 for i, a in enumerate(assignment))\n",
    "    \n",
    "    def interpret_measurement(self, measurement, *args, **kwargs):\n",
    "        top_measurement = max(measurement.items(), key=operator.itemgetter(1))[0]\n",
    "        return [bool(int(tf)) for tf in top_measurement[::-1]]"
   ]
  },
  {
   "cell_type": "markdown",
   "metadata": {},
   "source": [
    "Now the above oracle can be used together with a Grover search inside Qiskit Aqua."
   ]
  },
  {
   "cell_type": "code",
   "execution_count": 3,
   "metadata": {},
   "outputs": [],
   "source": [
    "import pylab\n",
    "from qiskit_aqua import run_algorithm, refresh_pluggables\n",
    "from qiskit_aqua._discover import register_pluggable, _REGISTERED_PLUGGABLES\n",
    "from qiskit.tools.visualization import circuit_drawer, plot_histogram"
   ]
  },
  {
   "cell_type": "code",
   "execution_count": 4,
   "metadata": {},
   "outputs": [
    {
     "data": {
      "text/plain": [
       "'BooleanExpression'"
      ]
     },
     "execution_count": 4,
     "metadata": {},
     "output_type": "execute_result"
    }
   ],
   "source": [
    "if 'oracle' in _REGISTERED_PLUGGABLES:\n",
    "    _REGISTERED_PLUGGABLES['oracle'].pop('BooleanExpression', None)\n",
    "register_pluggable(BooleanExpression)"
   ]
  },
  {
   "cell_type": "code",
   "execution_count": 5,
   "metadata": {},
   "outputs": [
    {
     "name": "stdout",
     "output_type": "stream",
     "text": [
      "[False, False, False]\n"
     ]
    }
   ],
   "source": [
    "algorithm_cfg = {\n",
    "    'name': 'Grover'\n",
    "}\n",
    "\n",
    "oracle_cfg = {\n",
    "    'name': 'BooleanExpression',\n",
    "    'expr': '[![abc]<abc>]',\n",
    "    'strategy': 0\n",
    "}\n",
    "\n",
    "params = {\n",
    "    'problem': {'name': 'search', 'random_seed': 50},\n",
    "    'algorithm': algorithm_cfg,\n",
    "    'oracle': oracle_cfg,\n",
    "    'backend': {'name': 'local_qasm_simulator'}\n",
    "}\n",
    "\n",
    "result = run_algorithm(params)\n",
    "print(result['result'])"
   ]
  },
  {
   "cell_type": "code",
   "execution_count": 6,
   "metadata": {},
   "outputs": [
    {
     "name": "stdout",
     "output_type": "stream",
     "text": [
      "OPENQASM 2.0;\n",
      "include \"qelib1.inc\";\n",
      "qreg v[3];\n",
      "qreg a[1];\n",
      "creg m[3];\n",
      "qreg o[1];\n",
      "h v[0];\n",
      "h v[1];\n",
      "h v[2];\n",
      "ccx v[0],v[1],o[0];\n",
      "ccx v[0],v[2],o[0];\n",
      "cx v[0],o[0];\n",
      "ccx v[1],v[2],o[0];\n",
      "cx v[1],o[0];\n",
      "cx v[2],o[0];\n",
      "x o[0];\n",
      "h v[0];\n",
      "h v[1];\n",
      "h v[2];\n",
      "x v[0];\n",
      "x v[1];\n",
      "x v[2];\n",
      "x o[0];\n",
      "h o[0];\n",
      "ccx v[0],v[1],a[0];\n",
      "ccx v[2],a[0],o[0];\n",
      "ccx v[0],v[1],a[0];\n",
      "h o[0];\n",
      "x v[0];\n",
      "x v[1];\n",
      "x v[2];\n",
      "x o[0];\n",
      "h v[0];\n",
      "h v[1];\n",
      "h v[2];\n",
      "h o[0];\n",
      "measure v[0] -> m[0];\n",
      "measure v[1] -> m[1];\n",
      "measure v[2] -> m[2];\n",
      "\n"
     ]
    }
   ],
   "source": [
    "print(result['circuit'].qasm())"
   ]
  },
  {
   "cell_type": "code",
   "execution_count": 7,
   "metadata": {},
   "outputs": [
    {
     "data": {
      "image/png": "[encoded data removed]",
      "text/plain": [
       "<Figure size 576x288 with 1 Axes>"
      ]
     },
     "metadata": {},
     "output_type": "display_data"
    }
   ],
   "source": [
    "pylab.rcParams['figure.figsize'] = (8, 4)\n",
    "plot_histogram(result['measurements'])"
   ]
  }
 ],
 "metadata": {
  "celltoolbar": "Raw Cell Format",
  "kernelspec": {
   "display_name": "Python 3",
   "language": "python",
   "name": "python3"
  },
  "language_info": {
   "codemirror_mode": {
    "name": "ipython",
    "version": 3
   },
   "file_extension": ".py",
   "mimetype": "text/x-python",
   "name": "python",
   "nbconvert_exporter": "python",
   "pygments_lexer": "ipython3",
   "version": "3.7.0"
  }
 },
 "nbformat": 4,
 "nbformat_minor": 2
}
